{
 "cells": [
  {
   "cell_type": "code",
   "execution_count": 1,
   "metadata": {},
   "outputs": [
    {
     "name": "stderr",
     "output_type": "stream",
     "text": [
      "c:\\Users\\azaan\\OneDrive\\Documents\\GitHub\\patient-chat-app\\venv\\Lib\\site-packages\\tqdm\\auto.py:21: TqdmWarning: IProgress not found. Please update jupyter and ipywidgets. See https://ipywidgets.readthedocs.io/en/stable/user_install.html\n",
      "  from .autonotebook import tqdm as notebook_tqdm\n"
     ]
    }
   ],
   "source": [
    "from langchain_google_genai import ChatGoogleGenerativeAI\n",
    "from langchain.chains import LLMChain\n",
    "from langchain import PromptTemplate\n",
    "import requests\n",
    "import json\n",
    "import os\n",
    "import getpass"
   ]
  },
  {
   "cell_type": "code",
   "execution_count": 7,
   "metadata": {},
   "outputs": [],
   "source": [
    "os.environ['GOOGLE_APPLICATION_CREDENTIALS'] = 'C:/Users/azaan/OneDrive/Documents/GitHub/patient-chat-app/patient_chat_app/gemini_api_key.json'"
   ]
  },
  {
   "cell_type": "code",
   "execution_count": 8,
   "metadata": {},
   "outputs": [],
   "source": [
    "def get_langchain_response(user_message):\n",
    "\n",
    "    # Initialize the Gemini LLM from Langchain\n",
    "    llm = ChatGoogleGenerativeAI(model=\"gemini-pro\", temperature=0.7, top_p=0.85)\n",
    "\n",
    "    # Create a PromptTemplate to format the user input\n",
    "    prompt_template = PromptTemplate(input_variables=[\"query\"], template=\"{query}\")\n",
    "    \n",
    "    # Create an LLMChain with the prompt and LLM\n",
    "    chain = LLMChain(llm=llm, prompt=prompt_template)\n",
    "\n",
    "    # Run the chain to get the response\n",
    "    bot_response = chain.invoke(user_message)\n",
    "\n",
    "    return bot_response['text']"
   ]
  },
  {
   "cell_type": "code",
   "execution_count": 9,
   "metadata": {},
   "outputs": [
    {
     "name": "stderr",
     "output_type": "stream",
     "text": [
      "C:\\Users\\azaan\\AppData\\Local\\Temp\\ipykernel_54104\\1641699118.py:10: LangChainDeprecationWarning: The class `LLMChain` was deprecated in LangChain 0.1.17 and will be removed in 1.0. Use :meth:`~RunnableSequence, e.g., `prompt | llm`` instead.\n",
      "  chain = LLMChain(llm=llm, prompt=prompt_template)\n"
     ]
    },
    {
     "data": {
      "text/plain": [
       "\"**Natural Flight**\\n\\n* **Wings:** Birds, bats, and flying insects have wings that allow them to generate lift and control their flight. Humans do not have natural wings.\\n\\n**Artificial Flight**\\n\\n**Fixed-Wing Aircraft**\\n\\n* **Airplanes:** These use wings to generate lift and engines to provide thrust. They require a runway to take off and land.\\n* **Gliders:** These have wings but no engines. They glide by taking advantage of air currents and gravity.\\n\\n**Rotary-Wing Aircraft**\\n\\n* **Helicopters:** These use rotating blades to generate lift and control their flight. They can take off and land vertically, making them suitable for short-range travel and emergency situations.\\n\\n**Other Flight Devices**\\n\\n* **Hot air balloons:** These use heated air to create buoyancy and rise into the sky.\\n* **Paragliders:** These are lightweight wings that allow users to glide from high altitudes.\\n* **Rocket packs:** These use jet propulsion to propel individuals into the air.\\n\\n**How to Fly Artificially**\\n\\nTo fly an aircraft, you need:\\n\\n* **Training:** Formal flight training is essential to learn the skills and knowledge required for safe operation.\\n* **License:** Most countries require a pilot's license to operate aircraft.\\n* **Aircraft:** You will need to rent or purchase an aircraft that is appropriate for your needs and experience level.\\n* **Maintenance:** Aircraft require regular maintenance to ensure their airworthiness.\\n\\n**Tips for Flying**\\n\\n* **Start with a flight simulator:** This can provide a realistic experience without the risks of real flight.\\n* **Find an experienced instructor:** A qualified instructor can guide you through the learning process and provide valuable feedback.\\n* **Practice regularly:** Flying skills require practice and repetition.\\n* **Stay informed:** Keep up with aviation news, regulations, and weather conditions.\\n* **Be aware of your limitations:** Know your aircraft's capabilities and your own abilities.\\n* **Always put safety first:** Follow all safety procedures and never take unnecessary risks.\""
      ]
     },
     "execution_count": 9,
     "metadata": {},
     "output_type": "execute_result"
    }
   ],
   "source": [
    "get_langchain_response('how do i fly?')"
   ]
  },
  {
   "cell_type": "code",
   "execution_count": null,
   "metadata": {},
   "outputs": [],
   "source": []
  }
 ],
 "metadata": {
  "kernelspec": {
   "display_name": "venv",
   "language": "python",
   "name": "python3"
  },
  "language_info": {
   "codemirror_mode": {
    "name": "ipython",
    "version": 3
   },
   "file_extension": ".py",
   "mimetype": "text/x-python",
   "name": "python",
   "nbconvert_exporter": "python",
   "pygments_lexer": "ipython3",
   "version": "3.12.3"
  }
 },
 "nbformat": 4,
 "nbformat_minor": 2
}
